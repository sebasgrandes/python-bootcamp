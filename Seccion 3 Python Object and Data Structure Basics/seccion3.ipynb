{
 "cells": [
  {
   "cell_type": "code",
   "execution_count": null,
   "metadata": {},
   "outputs": [],
   "source": [
    "\n",
    "# - 15 INTRODUCTION TO STRINGS\n",
    "\n",
    "type(100)\n",
    "print(\"hello \\n world\")\n",
    "len(\"hello\")"
   ]
  },
  {
   "cell_type": "code",
   "execution_count": 3,
   "metadata": {},
   "outputs": [
    {
     "name": "stdout",
     "output_type": "stream",
     "text": [
      "SebGrandes\n",
      "Grandessss\n",
      "s\n",
      "Gra\n",
      "nd\n",
      "Gadss\n",
      "Gnss\n",
      "ssssednarG\n"
     ]
    }
   ],
   "source": [
    "\n",
    "# - 16 INDEXING AND SLICING WITH STRINGS\n",
    "\n",
    "my_string = \"Sebastian\"\n",
    "\n",
    "# [inicio, final, step]\n",
    "print(my_string[-1]) # indexing\n",
    "print(my_string[:3]) # slicing\n",
    "print(my_string[3:5])\n",
    "print(my_string[0::2])\n",
    "print(my_string[::3])\n",
    "print(my_string[::-1])"
   ]
  },
  {
   "cell_type": "code",
   "execution_count": 6,
   "metadata": {},
   "outputs": [
    {
     "name": "stdout",
     "output_type": "stream",
     "text": [
      "Sebastian Hello World!\n",
      "1Sebastian\n",
      "12\n",
      "yyyyyyyyyyyyyyy\n",
      "['THIS', 'IS', 'A', 'NUMBER', 'I', 'HELLO']\n",
      "['Th', 's ', 's a number ', ' hello']\n",
      "This is a number i hello\n",
      "SebGrandes\n",
      "Grandessss\n"
     ]
    }
   ],
   "source": [
    "\n",
    "# - 17 STRING PROPERTIES AND METHODS \n",
    "\n",
    "x = \"Hello World!\"\n",
    "\n",
    "print(\"Sebastian \" + x)\n",
    "\n",
    "print(\"1\" + \"Sebastian\") # Esto si se puede, son cadenas\n",
    "print(\"1\" + \"2\") # Esto también se puede\n",
    "# print(1 + \"Sebastian\") # Esto no se puede, uno es un numero\n",
    "\n",
    "y = \"yyy\"\n",
    "print(y*5)\n",
    "z = \"This is a number i hello\"\n",
    "print(z.upper().split())\n",
    "print(z.split(\"i\"))\n",
    "print(z.lower()) # esto no altera o modifica como tal la variable, la mantiene como puedes ver a continuacion\n",
    "print(z)\n",
    "\n",
    "mi_palabra = \"Sebastian\"\n",
    "\n",
    "# ! los strings son inmutables (o sea no se pueden modificar)... ESTO también SIGNIFICA QUE NO PUEDES USAR EL INDEXING PARA CAMBIAR LOS ELEMENTOS INDIVIDUALES DE UN STRING\n",
    "# mi_palabra[1] = \"P\" # esto no funcionará\n",
    "\n",
    "# lo que puedes hacer en cambio es crear otro string o reasignarlo\n",
    "my_wordz = mi_palabra[:3] + \"Grandes\"\n",
    "mi_palabra = \"Grandessss\"\n",
    "print(my_wordz)\n",
    "print(mi_palabra)\n"
   ]
  },
  {
   "cell_type": "code",
   "execution_count": 20,
   "metadata": {},
   "outputs": [
    {
     "name": "stdout",
     "output_type": "stream",
     "text": [
      "Hola, mi nombre es Sebastian y mi apellido es Grandes. Tengo 23 años.\n",
      "Hola, mi nombre es 23 y mi apellido es Sebastian. Tengo Grandes años.\n",
      "Hola, mi nombre es Sebastian y mi apellido es Sebastian. Tengo Sebastian años.\n",
      "Hola, mi nombre es Sebastian y mi apellido es Grandes. Tengo Grandes años.\n",
      "El resultado de la operacion es 0.129\n",
      "El resultado de la operacion es      0.129\n",
      "El resultado de la operacion es    0.12870\n",
      "Hola, mi nombre es: Sebas\n"
     ]
    }
   ],
   "source": [
    "\n",
    "# - 19 PRINT FORMATTING WITH STRINGS\n",
    "\n",
    "# 2 FORMAS DE REEMPLAZAR VARIABLES EN LOS STRINGS\n",
    "\n",
    "# --- forma 1, preferida del profe\n",
    "\n",
    "print(\"Hola, mi nombre es {} y mi apellido es {}. Tengo {} años.\".format(\"Sebastian\", \"Grandes\", \"23\"))\n",
    "print(\"Hola, mi nombre es {2} y mi apellido es {0}. Tengo {1} años.\".format(\"Sebastian\", \"Grandes\", \"23\"))\n",
    "print(\"Hola, mi nombre es {0} y mi apellido es {0}. Tengo {0} años.\".format(\"Sebastian\", \"Grandes\", \"23\"))\n",
    "print(\"Hola, mi nombre es {name} y mi apellido es {s}. Tengo {s} años.\".format(name=\"Sebastian\", s=\"Grandes\", w=\"23\"))\n",
    "\n",
    "# aqui enseña a formatear float: {value:width.precition f}\n",
    "operation = 100/777\n",
    "print(\"El resultado de la operacion es {r:1.3f}\".format(r=operation))\n",
    "print(\"El resultado de la operacion es {r:10.3f}\".format(r=operation))\n",
    "print(\"El resultado de la operacion es {r:10.5f}\".format(r=operation))\n",
    "\n",
    "# --- forma 2, nueva: F strings literal\n",
    "nombre = \"Sebas\"\n",
    "print(f'Hola, mi nombre es: {nombre}')\n",
    "\n",
    "# ! HAY MUCHOS MAS EJEMPLOS DE FORMATEO DE STRINGS EN LOS NOTEBOOKS DEL PROFE, EN SU GITHUB\n",
    "\n"
   ]
  },
  {
   "cell_type": "code",
   "execution_count": 20,
   "metadata": {},
   "outputs": [
    {
     "name": "stdout",
     "output_type": "stream",
     "text": [
      "x\n",
      "['q', 'w', 'nopeeeeeee']\n",
      "['x', 'h', 'q', 'w']\n",
      "[4, 215, 43, 2, 45, 6, 23, 345, 'asdasdasd']\n",
      "['x', 'h', 'q', 'w', 4, 215, 43, 2, 45, 6, 23, 345, 'asdasdasd']\n",
      "13\n",
      "None\n",
      "<class 'NoneType'>\n",
      "['h', 'q', 'w', 'x']\n",
      "23\n",
      "['x', 'h', 'q', 'w', 4, 215, 43, 2, 45, 6, 345, 'asdasdasd']\n",
      "[0, 1, 2, 2, 3, 3, 4, 5, 6, 7, 12, 53]\n",
      "[0, 1, 2, 2, 3, 3, 4, 5, 6, 7, 12, 53]\n",
      "None\n",
      "[53, 12, 7, 6, 5, 4, 3, 3, 2, 2, 1, 0]\n"
     ]
    }
   ],
   "source": [
    "\n",
    "# - 21 Lists in Python\n",
    "# las listas también permiten indexing y slicing\n",
    "# listas = arrays en javascript\n",
    "\n",
    "list1 = [\"a\", \"x\", \"h\", \"q\", \"w\", \"b\"]\n",
    "list2 = [4, 215, 43, 2, 45, 6, 23, 345]\n",
    "\n",
    "list1[5] = \"nopeeeeeee\" # las listas SÍ SON MUTABLES\n",
    "\n",
    "print(list1[1])\n",
    "print(list1[3:])\n",
    "\n",
    "# metodos de listas\n",
    "list2.append(\"asdasdasd\") # agregar al ultimo\n",
    "list1.pop() # quitar (el ultimo por defecto)\n",
    "list1.pop(0) # quitar (respecto un indice)\n",
    "\n",
    "list3 = list1 + list2 # las listas también se pueden concatenar\n",
    "\n",
    "print(list1)\n",
    "print(list2)\n",
    "print(list3)\n",
    "print(len(list3))\n",
    "\n",
    "# ! esto de aqui solo hara un sort a list1 (por la 2da parte)... pero asignará un objeto vacio a new_list1\n",
    "new_list1 = list1.sort()\n",
    "print(new_list1)\n",
    "print(type(new_list1))\n",
    "print(list1)\n",
    "\n",
    "# con el .pop() también podemos asignar lo extraido a una variable\n",
    "old_list = list3.pop(-3)\n",
    "print(old_list)\n",
    "print(list3)\n",
    "\n",
    "# probando el sort... puedes sortearlo y luego asignarlo a una variable, pero aun asi se sorteara a variable original :p\n",
    "list5 = [5, 3, 6, 7, 2, 12, 53, 3, 1, 4, 2, 0]\n",
    "list5.sort()\n",
    "new_list5_sorted = list5\n",
    "print(new_list5_sorted)\n",
    "print(list5)\n",
    "\n",
    "# reverse (sort invertido... no se cual sea la diferencia)\n",
    "print(list5.reverse())\n",
    "print(list5)\n",
    "\n"
   ]
  },
  {
   "cell_type": "code",
   "execution_count": 12,
   "metadata": {},
   "outputs": [
    {
     "name": "stdout",
     "output_type": "stream",
     "text": [
      "2\n",
      "GRANDES\n",
      "dict_items([('key1', [1, 2, 4, 4]), ('key2', {'sebas': 23}), ('key3', ['sebas', 'grandes', 'conqui'])])\n",
      "dict_keys(['key1', 'key2', 'key3'])\n",
      "dict_values([[1, 2, 4, 4], {'sebas': 23}, ['sebas', 'grandes', 'conqui']])\n"
     ]
    }
   ],
   "source": [
    "\n",
    "# - 23 Dictionaries in Python\n",
    "# diccionarios en python son como objetos en javascript\n",
    "# a las listas se les llama ordenadas pq se puede acceder a ellas a través de indices...\n",
    "# a los diccionarios se les llama no ordenados porque no se puede acceder a ellos con indices, en cambio, se accede mediante llaves... los diccionarios no se pueden ordenar (sort)\n",
    "\n",
    "d1 = {\"key1\": [1,2,4,4], \"key2\": {\"sebas\": 23}}\n",
    "\n",
    "# a los diccionarios se acceden mediantes las llaves, no mediante un indice\n",
    "print(d1[\"key1\"][1])\n",
    "d1[\"key3\"] = [\"sebas\", \"grandes\", \"conqui\"]\n",
    "print(d1[\"key3\"][1].upper())\n",
    "\n",
    "# metodos de diccionarios\n",
    "print(d1.items())\n",
    "print(d1.keys())\n",
    "print(d1.values())"
   ]
  },
  {
   "cell_type": "code",
   "execution_count": 3,
   "metadata": {},
   "outputs": [
    {
     "name": "stdout",
     "output_type": "stream",
     "text": [
      "<class 'tuple'>\n",
      "onetwo\n",
      "b\n",
      "3\n",
      "1\n"
     ]
    },
    {
     "ename": "TypeError",
     "evalue": "'tuple' object does not support item assignment",
     "output_type": "error",
     "traceback": [
      "\u001b[1;31m---------------------------------------------------------------------------\u001b[0m",
      "\u001b[1;31mTypeError\u001b[0m                                 Traceback (most recent call last)",
      "Cell \u001b[1;32mIn[3], line 15\u001b[0m\n\u001b[0;32m     12\u001b[0m \u001b[38;5;28mprint\u001b[39m(tupla1\u001b[38;5;241m.\u001b[39mindex(\u001b[38;5;124m\"\u001b[39m\u001b[38;5;124monetwo\u001b[39m\u001b[38;5;124m\"\u001b[39m))\n\u001b[0;32m     14\u001b[0m \u001b[38;5;66;03m# ejemplo de la inmutabilidad de las tuplas\u001b[39;00m\n\u001b[1;32m---> 15\u001b[0m \u001b[43mtupla1\u001b[49m\u001b[43m[\u001b[49m\u001b[38;5;241;43m1\u001b[39;49m\u001b[43m]\u001b[49m \u001b[38;5;241m=\u001b[39m \u001b[38;5;124m\"\u001b[39m\u001b[38;5;124masd\u001b[39m\u001b[38;5;124m\"\u001b[39m\n",
      "\u001b[1;31mTypeError\u001b[0m: 'tuple' object does not support item assignment"
     ]
    }
   ],
   "source": [
    "\n",
    "# - 25 Tuples in Python\n",
    "\n",
    "# las tuplas son como las listas pero... las tuplas son inmutables\n",
    "\n",
    "tupla1 = (1,\"onetwo\",\"b\", \"b\", \"b\", 3)\n",
    "\n",
    "\n",
    "print(type(tupla1))\n",
    "print(tupla1[1])\n",
    "print(tupla1[-2])\n",
    "print(tupla1.count(\"b\"))\n",
    "print(tupla1.index(\"onetwo\"))\n",
    "\n",
    "# ejemplo de la inmutabilidad de las tuplas\n",
    "# tupla1[1] = \"asd\" # ! no permitido\n",
    "\n",
    "# mientras mas vas avanzando te daras cuenta de la utilidad de esta inmutabilidad, ya que no querrás que se cambien estas tuplas de alguna forma y eso es beneficioso."
   ]
  }
 ],
 "metadata": {
  "kernelspec": {
   "display_name": "Python 3",
   "language": "python",
   "name": "python3"
  },
  "language_info": {
   "codemirror_mode": {
    "name": "ipython",
    "version": 3
   },
   "file_extension": ".py",
   "mimetype": "text/x-python",
   "name": "python",
   "nbconvert_exporter": "python",
   "pygments_lexer": "ipython3",
   "version": "3.12.2"
  }
 },
 "nbformat": 4,
 "nbformat_minor": 2
}
