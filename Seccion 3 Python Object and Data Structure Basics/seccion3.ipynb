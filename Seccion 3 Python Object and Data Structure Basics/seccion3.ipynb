{
 "cells": [
  {
   "cell_type": "code",
   "execution_count": null,
   "metadata": {},
   "outputs": [],
   "source": [
    "\n",
    "# - 15 INTRODUCTION TO STRINGS\n",
    "\n",
    "type(100)\n",
    "print(\"hello \\n world\")\n",
    "len(\"hello\")"
   ]
  },
  {
   "cell_type": "code",
   "execution_count": 3,
   "metadata": {},
   "outputs": [
    {
     "name": "stdout",
     "output_type": "stream",
     "text": [
      "SebGrandes\n",
      "Grandessss\n",
      "s\n",
      "Gra\n",
      "nd\n",
      "Gadss\n",
      "Gnss\n",
      "ssssednarG\n"
     ]
    }
   ],
   "source": [
    "\n",
    "# - 16 INDEXING AND SLICING WITH STRINGS\n",
    "\n",
    "my_string = \"Sebastian\"\n",
    "\n",
    "# [inicio, final, step]\n",
    "print(my_string[-1]) # indexing\n",
    "print(my_string[:3]) # slicing\n",
    "print(my_string[3:5])\n",
    "print(my_string[0::2])\n",
    "print(my_string[::3])\n",
    "print(my_string[::-1])"
   ]
  },
  {
   "cell_type": "code",
   "execution_count": 6,
   "metadata": {},
   "outputs": [
    {
     "name": "stdout",
     "output_type": "stream",
     "text": [
      "Sebastian Hello World!\n",
      "1Sebastian\n",
      "12\n",
      "yyyyyyyyyyyyyyy\n",
      "['THIS', 'IS', 'A', 'NUMBER', 'I', 'HELLO']\n",
      "['Th', 's ', 's a number ', ' hello']\n",
      "This is a number i hello\n",
      "SebGrandes\n",
      "Grandessss\n"
     ]
    }
   ],
   "source": [
    "\n",
    "# - 17 STRING PROPERTIES AND METHODS \n",
    "\n",
    "x = \"Hello World!\"\n",
    "\n",
    "print(\"Sebastian \" + x)\n",
    "\n",
    "print(\"1\" + \"Sebastian\") # Esto si se puede, son cadenas\n",
    "print(\"1\" + \"2\") # Esto también se puede\n",
    "# print(1 + \"Sebastian\") # Esto no se puede, uno es un numero\n",
    "\n",
    "y = \"yyy\"\n",
    "print(y*5)\n",
    "z = \"This is a number i hello\"\n",
    "print(z.upper().split())\n",
    "print(z.split(\"i\"))\n",
    "print(z.lower()) # esto no altera o modifica como tal la variable, la mantiene como puedes ver a continuacion\n",
    "print(z)\n",
    "\n",
    "mi_palabra = \"Sebastian\"\n",
    "\n",
    "# ! los strings son inmutables (o sea no se pueden modificar)... ESTO también SIGNIFICA QUE NO PUEDES USAR EL INDEXING PARA CAMBIAR LOS ELEMENTOS INDIVIDUALES DE UN STRING\n",
    "# mi_palabra[1] = \"P\" # esto no funcionará\n",
    "\n",
    "# lo que puedes hacer en cambio es crear otro string o reasignarlo\n",
    "my_wordz = mi_palabra[:3] + \"Grandes\"\n",
    "mi_palabra = \"Grandessss\"\n",
    "print(my_wordz)\n",
    "print(mi_palabra)\n"
   ]
  },
  {
   "cell_type": "code",
   "execution_count": 20,
   "metadata": {},
   "outputs": [
    {
     "name": "stdout",
     "output_type": "stream",
     "text": [
      "Hola, mi nombre es Sebastian y mi apellido es Grandes. Tengo 23 años.\n",
      "Hola, mi nombre es 23 y mi apellido es Sebastian. Tengo Grandes años.\n",
      "Hola, mi nombre es Sebastian y mi apellido es Sebastian. Tengo Sebastian años.\n",
      "Hola, mi nombre es Sebastian y mi apellido es Grandes. Tengo Grandes años.\n",
      "El resultado de la operacion es 0.129\n",
      "El resultado de la operacion es      0.129\n",
      "El resultado de la operacion es    0.12870\n",
      "Hola, mi nombre es: Sebas\n"
     ]
    }
   ],
   "source": [
    "\n",
    "# - 19 PRINT FORMATTING WITH STRINGS\n",
    "\n",
    "# 2 FORMAS DE REEMPLAZAR VARIABLES EN LOS STRINGS\n",
    "\n",
    "# --- forma 1, preferida del profe\n",
    "\n",
    "print(\"Hola, mi nombre es {} y mi apellido es {}. Tengo {} años.\".format(\"Sebastian\", \"Grandes\", \"23\"))\n",
    "print(\"Hola, mi nombre es {2} y mi apellido es {0}. Tengo {1} años.\".format(\"Sebastian\", \"Grandes\", \"23\"))\n",
    "print(\"Hola, mi nombre es {0} y mi apellido es {0}. Tengo {0} años.\".format(\"Sebastian\", \"Grandes\", \"23\"))\n",
    "print(\"Hola, mi nombre es {name} y mi apellido es {s}. Tengo {s} años.\".format(name=\"Sebastian\", s=\"Grandes\", w=\"23\"))\n",
    "\n",
    "# aqui enseña a formatear float: {value:width.precition f}\n",
    "operation = 100/777\n",
    "print(\"El resultado de la operacion es {r:1.3f}\".format(r=operation))\n",
    "print(\"El resultado de la operacion es {r:10.3f}\".format(r=operation))\n",
    "print(\"El resultado de la operacion es {r:10.5f}\".format(r=operation))\n",
    "\n",
    "# --- forma 2, nueva: F strings literal\n",
    "nombre = \"Sebas\"\n",
    "print(f'Hola, mi nombre es: {nombre}')\n",
    "\n",
    "# ! HAY MUCHOS MAS EJEMPLOS DE FORMATEO DE STRINGS EN LOS NOTEBOOKS DEL PROFE, EN SU GITHUB"
   ]
  }
 ],
 "metadata": {
  "kernelspec": {
   "display_name": "Python 3",
   "language": "python",
   "name": "python3"
  },
  "language_info": {
   "codemirror_mode": {
    "name": "ipython",
    "version": 3
   },
   "file_extension": ".py",
   "mimetype": "text/x-python",
   "name": "python",
   "nbconvert_exporter": "python",
   "pygments_lexer": "ipython3",
   "version": "3.12.3"
  }
 },
 "nbformat": 4,
 "nbformat_minor": 2
}
