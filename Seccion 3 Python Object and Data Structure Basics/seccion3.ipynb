{
 "cells": [
  {
   "cell_type": "code",
   "execution_count": null,
   "metadata": {},
   "outputs": [],
   "source": [
    "\n",
    "# - 15 Introduction to Strings\n",
    "\n",
    "type(100)\n",
    "print(\"hello \\n world\")\n",
    "len(\"hello\")\n",
    "\n"
   ]
  },
  {
   "cell_type": "code",
   "execution_count": 3,
   "metadata": {},
   "outputs": [
    {
     "name": "stdout",
     "output_type": "stream",
     "text": [
      "SebGrandes\n",
      "Grandessss\n",
      "s\n",
      "Gra\n",
      "nd\n",
      "Gadss\n",
      "Gnss\n",
      "ssssednarG\n"
     ]
    }
   ],
   "source": [
    "# - Indexing and Slicing with strings\n",
    "\n",
    "my_string = \"Sebastian\"\n",
    "\n",
    "# [inicio, final, step]\n",
    "print(my_string[-1]) # indexing\n",
    "print(my_string[:3]) # slicing\n",
    "print(my_string[3:5])\n",
    "print(my_string[0::2])\n",
    "print(my_string[::3])\n",
    "print(my_string[::-1])\n",
    "\n"
   ]
  },
  {
   "cell_type": "code",
   "execution_count": 6,
   "metadata": {},
   "outputs": [
    {
     "name": "stdout",
     "output_type": "stream",
     "text": [
      "Sebastian Hello World!\n",
      "1Sebastian\n",
      "12\n",
      "yyyyyyyyyyyyyyy\n",
      "['THIS', 'IS', 'A', 'NUMBER', 'I', 'HELLO']\n",
      "['Th', 's ', 's a number ', ' hello']\n",
      "This is a number i hello\n",
      "SebGrandes\n",
      "Grandessss\n"
     ]
    }
   ],
   "source": [
    "\n",
    "# - 17 String Properties and Methods \n",
    "x = \"Hello World!\"\n",
    "\n",
    "print(\"Sebastian \" + x)\n",
    "\n",
    "print(\"1\" + \"Sebastian\") # Esto si se puede, son cadenas\n",
    "print(\"1\" + \"2\") # Esto también se puede\n",
    "# print(1 + \"Sebastian\") # Esto no se puede, uno es un numero\n",
    "\n",
    "y = \"yyy\"\n",
    "print(y*5)\n",
    "z = \"This is a number i hello\"\n",
    "print(z.upper().split())\n",
    "print(z.split(\"i\"))\n",
    "print(z.lower()) # esto no altera o modifica como tal la variable, la mantiene como puedes ver a continuacion\n",
    "print(z)\n",
    "\n",
    "mi_palabra = \"Sebastian\"\n",
    "\n",
    "# ! los strings son inmutables (o sea no se pueden modificar)\n",
    "# mi_palabra[1] = \"P\" # esto no funcionará\n",
    "\n",
    "# lo que puedes hacer en cambio es crear otro string o reasignarlo\n",
    "my_wordz = mi_palabra[:3] + \"Grandes\"\n",
    "mi_palabra = \"Grandessss\"\n",
    "print(my_wordz)\n",
    "print(mi_palabra)\n"
   ]
  },
  {
   "cell_type": "code",
   "execution_count": null,
   "metadata": {},
   "outputs": [],
   "source": [
    "\n"
   ]
  }
 ],
 "metadata": {
  "kernelspec": {
   "display_name": "Python 3",
   "language": "python",
   "name": "python3"
  },
  "language_info": {
   "codemirror_mode": {
    "name": "ipython",
    "version": 3
   },
   "file_extension": ".py",
   "mimetype": "text/x-python",
   "name": "python",
   "nbconvert_exporter": "python",
   "pygments_lexer": "ipython3",
   "version": "3.12.3"
  }
 },
 "nbformat": 4,
 "nbformat_minor": 2
}
