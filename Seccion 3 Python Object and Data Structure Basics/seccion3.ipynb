{
 "cells": [
  {
   "cell_type": "code",
   "execution_count": null,
   "metadata": {},
   "outputs": [],
   "source": [
    "\n",
    "# - 15 Introduction to Strings\n",
    "\n",
    "type(100)\n",
    "print(\"hello \\n world\")\n",
    "len(\"hello\")\n",
    "\n"
   ]
  },
  {
   "cell_type": "code",
   "execution_count": 9,
   "metadata": {},
   "outputs": [
    {
     "name": "stdout",
     "output_type": "stream",
     "text": [
      "n\n",
      "Seb\n",
      "as\n",
      "Sbsin\n",
      "Sai\n",
      "naitsabeS\n"
     ]
    }
   ],
   "source": [
    "# - Indexing and Slicing with strings\n",
    "\n",
    "my_string = \"Sebastian\"\n",
    "\n",
    "# [inicio, final, step]\n",
    "print(my_string[-1]) # indexing\n",
    "print(my_string[:3]) # slicing\n",
    "print(my_string[3:5])\n",
    "print(my_string[0::2])\n",
    "print(my_string[::3])\n",
    "print(my_string[::-1])\n",
    "\n",
    "\n"
   ]
  }
 ],
 "metadata": {
  "kernelspec": {
   "display_name": "Python 3",
   "language": "python",
   "name": "python3"
  },
  "language_info": {
   "codemirror_mode": {
    "name": "ipython",
    "version": 3
   },
   "file_extension": ".py",
   "mimetype": "text/x-python",
   "name": "python",
   "nbconvert_exporter": "python",
   "pygments_lexer": "ipython3",
   "version": "3.12.3"
  }
 },
 "nbformat": 4,
 "nbformat_minor": 2
}
